{
 "cells": [
  {
   "cell_type": "markdown",
   "id": "f38e3b1c",
   "metadata": {},
   "source": [
    "<h1 style=\"color: #F70206; text-shadow: 2px 2px 4px #000000; border: 1px solid #000000; font-size: 60px; text-align: center; background-color: #A1A1A3;\"> 🏎️ FORMULA 1: LAP TIMES 🏎️ </h1>\n",
    "\n"
   ]
  },
  {
   "cell_type": "markdown",
   "id": "07cb2671",
   "metadata": {},
   "source": [
    "<h1 style=\"color: #F70206; text-shadow: 2px 2px 4px #000000; border: 1px solid #000000; font-size: 36px;\">00 | First Steps </h1>"
   ]
  },
  {
   "cell_type": "code",
   "execution_count": 1,
   "id": "c461ec22",
   "metadata": {},
   "outputs": [],
   "source": [
    "import re                                                # 🔄 Importa la biblioteca re para operaciones de expresiones regulares.\n",
    "import pandas as pd                                      # 😀 Importa la biblioteca pandas y la renombra como pd para su uso en el código.\n",
    "import matplotlib.pyplot as plt                          # 📊 Importa la biblioteca matplotlib.pyplot y la renombra como plt para su uso en el código.\n",
    "import seaborn as sns                                    # 📈 Importa la biblioteca seaborn para gráficos estadísticos.\n",
    "import numpy as np                                       # 🔢 Importa la biblioteca numpy y la renombra como np para su uso en el código.\n",
    "import statsmodels.api as sm                             # 📈 Importa la biblioteca statsmodels.api para análisis estadístico y modelado.\n",
    "import scipy.stats as st                                 # 🔬 Importa la biblioteca scipy.stats para distribuciones y pruebas estadísticas.\n",
    "import warnings                                          # ⚠️ Importa la biblioteca warnings para manejar advertencias.\n",
    "from datetime import datetime                            # 📅 Importa la clase datetime de la biblioteca datetime para trabajar con fechas y horas."
   ]
  },
  {
   "cell_type": "markdown",
   "id": "3a6765fc",
   "metadata": {},
   "source": [
    "<div class=\"alert alert-block alert-info\" style=\"background-color: rgba(247, 2, 6, 0.2); color: black;\">\n",
    "    <strong>Tip #1</strong> RELLENAR!\n",
    "</div>\n"
   ]
  },
  {
   "cell_type": "markdown",
   "id": "b7e5c3e3",
   "metadata": {},
   "source": [
    "<h4 style=\"color: #F70206;\">Other settings</h4>"
   ]
  },
  {
   "cell_type": "code",
   "execution_count": 2,
   "id": "4082ce03",
   "metadata": {},
   "outputs": [],
   "source": [
    "warnings.filterwarnings(\"ignore\")\n",
    "%matplotlib inline\n",
    "pd.set_option('display.max_columns', None)"
   ]
  },
  {
   "cell_type": "markdown",
   "id": "3402cd50",
   "metadata": {},
   "source": [
    "<h4 style=\"color: #F70206;\">Data Extraction</h4>"
   ]
  },
  {
   "cell_type": "code",
   "execution_count": 3,
   "id": "e096b808",
   "metadata": {},
   "outputs": [],
   "source": [
    "data = pd.read_csv(\"circuits.csv\")"
   ]
  },
  {
   "cell_type": "code",
   "execution_count": 4,
   "id": "505d8706",
   "metadata": {},
   "outputs": [],
   "source": [
    "data1 = pd.read_csv(\"results.csv\")"
   ]
  },
  {
   "cell_type": "code",
   "execution_count": 5,
   "id": "3c41f537",
   "metadata": {},
   "outputs": [
    {
     "data": {
      "text/plain": [
       "Index(['resultId', 'raceId', 'driverId', 'constructorId', 'number', 'grid',\n",
       "       'position', 'positionText', 'positionOrder', 'points', 'laps', 'time',\n",
       "       'milliseconds', 'fastestLap', 'rank', 'fastestLapTime',\n",
       "       'fastestLapSpeed', 'statusId'],\n",
       "      dtype='object')"
      ]
     },
     "execution_count": 5,
     "metadata": {},
     "output_type": "execute_result"
    }
   ],
   "source": [
    "data1.columns"
   ]
  },
  {
   "cell_type": "code",
   "execution_count": 6,
   "id": "c951b0f0",
   "metadata": {},
   "outputs": [],
   "source": [
    "data1 = data1.drop(columns=['resultId', 'number',\n",
    "       'position', 'positionText', 'milliseconds', 'time', 'fastestLap', 'fastestLapTime', 'statusId'])"
   ]
  },
  {
   "cell_type": "code",
   "execution_count": 16,
   "id": "e5145e44",
   "metadata": {},
   "outputs": [],
   "source": [
    "data1.to_csv(\"results_clean.csv\")"
   ]
  },
  {
   "cell_type": "code",
   "execution_count": 8,
   "id": "00fc4b9f",
   "metadata": {},
   "outputs": [
    {
     "name": "stdout",
     "output_type": "stream",
     "text": [
      "<class 'pandas.core.frame.DataFrame'>\n",
      "RangeIndex: 26080 entries, 0 to 26079\n",
      "Data columns (total 9 columns):\n",
      " #   Column           Non-Null Count  Dtype  \n",
      "---  ------           --------------  -----  \n",
      " 0   raceId           26080 non-null  int64  \n",
      " 1   driverId         26080 non-null  int64  \n",
      " 2   constructorId    26080 non-null  int64  \n",
      " 3   grid             26080 non-null  int64  \n",
      " 4   positionOrder    26080 non-null  int64  \n",
      " 5   points           26080 non-null  float64\n",
      " 6   laps             26080 non-null  int64  \n",
      " 7   rank             26080 non-null  object \n",
      " 8   fastestLapSpeed  26080 non-null  object \n",
      "dtypes: float64(1), int64(6), object(2)\n",
      "memory usage: 1.8+ MB\n"
     ]
    }
   ],
   "source": [
    "data1.info()"
   ]
  },
  {
   "cell_type": "code",
   "execution_count": null,
   "id": "44842f47",
   "metadata": {},
   "outputs": [],
   "source": []
  },
  {
   "cell_type": "markdown",
   "id": "0df4008d",
   "metadata": {},
   "source": [
    "<h4 style=\"color: #F70206;\">Exploring the Data (First Impression)</h4>"
   ]
  },
  {
   "cell_type": "code",
   "execution_count": 9,
   "id": "1e01508b",
   "metadata": {},
   "outputs": [
    {
     "data": {
      "text/html": [
       "<div>\n",
       "<style scoped>\n",
       "    .dataframe tbody tr th:only-of-type {\n",
       "        vertical-align: middle;\n",
       "    }\n",
       "\n",
       "    .dataframe tbody tr th {\n",
       "        vertical-align: top;\n",
       "    }\n",
       "\n",
       "    .dataframe thead th {\n",
       "        text-align: right;\n",
       "    }\n",
       "</style>\n",
       "<table border=\"1\" class=\"dataframe\">\n",
       "  <thead>\n",
       "    <tr style=\"text-align: right;\">\n",
       "      <th></th>\n",
       "      <th>circuitid</th>\n",
       "      <th>circuitref</th>\n",
       "      <th>lat</th>\n",
       "      <th>lng</th>\n",
       "      <th>alt</th>\n",
       "    </tr>\n",
       "  </thead>\n",
       "  <tbody>\n",
       "    <tr>\n",
       "      <th>0</th>\n",
       "      <td>1</td>\n",
       "      <td>albert_park</td>\n",
       "      <td>-37.84970</td>\n",
       "      <td>144.96800</td>\n",
       "      <td>10</td>\n",
       "    </tr>\n",
       "    <tr>\n",
       "      <th>1</th>\n",
       "      <td>2</td>\n",
       "      <td>sepang</td>\n",
       "      <td>2.76083</td>\n",
       "      <td>101.73800</td>\n",
       "      <td>18</td>\n",
       "    </tr>\n",
       "    <tr>\n",
       "      <th>2</th>\n",
       "      <td>3</td>\n",
       "      <td>bahrain</td>\n",
       "      <td>26.03250</td>\n",
       "      <td>50.51060</td>\n",
       "      <td>7</td>\n",
       "    </tr>\n",
       "    <tr>\n",
       "      <th>3</th>\n",
       "      <td>4</td>\n",
       "      <td>catalunya</td>\n",
       "      <td>41.57000</td>\n",
       "      <td>2.26111</td>\n",
       "      <td>109</td>\n",
       "    </tr>\n",
       "    <tr>\n",
       "      <th>4</th>\n",
       "      <td>5</td>\n",
       "      <td>istanbul</td>\n",
       "      <td>40.95170</td>\n",
       "      <td>29.40500</td>\n",
       "      <td>130</td>\n",
       "    </tr>\n",
       "    <tr>\n",
       "      <th>...</th>\n",
       "      <td>...</td>\n",
       "      <td>...</td>\n",
       "      <td>...</td>\n",
       "      <td>...</td>\n",
       "      <td>...</td>\n",
       "    </tr>\n",
       "    <tr>\n",
       "      <th>72</th>\n",
       "      <td>75</td>\n",
       "      <td>portimao</td>\n",
       "      <td>37.22700</td>\n",
       "      <td>-8.62670</td>\n",
       "      <td>108</td>\n",
       "    </tr>\n",
       "    <tr>\n",
       "      <th>73</th>\n",
       "      <td>76</td>\n",
       "      <td>mugello</td>\n",
       "      <td>43.99750</td>\n",
       "      <td>11.37190</td>\n",
       "      <td>255</td>\n",
       "    </tr>\n",
       "    <tr>\n",
       "      <th>74</th>\n",
       "      <td>77</td>\n",
       "      <td>jeddah</td>\n",
       "      <td>21.63190</td>\n",
       "      <td>39.10440</td>\n",
       "      <td>15</td>\n",
       "    </tr>\n",
       "    <tr>\n",
       "      <th>75</th>\n",
       "      <td>78</td>\n",
       "      <td>losail</td>\n",
       "      <td>25.49000</td>\n",
       "      <td>51.45420</td>\n",
       "      <td>\\N</td>\n",
       "    </tr>\n",
       "    <tr>\n",
       "      <th>76</th>\n",
       "      <td>79</td>\n",
       "      <td>miami</td>\n",
       "      <td>25.95810</td>\n",
       "      <td>-80.23890</td>\n",
       "      <td>\\N</td>\n",
       "    </tr>\n",
       "  </tbody>\n",
       "</table>\n",
       "<p>77 rows × 5 columns</p>\n",
       "</div>"
      ],
      "text/plain": [
       "    circuitid   circuitref       lat        lng  alt\n",
       "0           1  albert_park -37.84970  144.96800   10\n",
       "1           2       sepang   2.76083  101.73800   18\n",
       "2           3      bahrain  26.03250   50.51060    7\n",
       "3           4    catalunya  41.57000    2.26111  109\n",
       "4           5     istanbul  40.95170   29.40500  130\n",
       "..        ...          ...       ...        ...  ...\n",
       "72         75     portimao  37.22700   -8.62670  108\n",
       "73         76      mugello  43.99750   11.37190  255\n",
       "74         77       jeddah  21.63190   39.10440   15\n",
       "75         78       losail  25.49000   51.45420   \\N\n",
       "76         79        miami  25.95810  -80.23890   \\N\n",
       "\n",
       "[77 rows x 5 columns]"
      ]
     },
     "execution_count": 9,
     "metadata": {},
     "output_type": "execute_result"
    }
   ],
   "source": [
    "data"
   ]
  },
  {
   "cell_type": "code",
   "execution_count": 10,
   "id": "b41e1fbf",
   "metadata": {},
   "outputs": [
    {
     "name": "stdout",
     "output_type": "stream",
     "text": [
      "<class 'pandas.core.frame.DataFrame'>\n",
      "RangeIndex: 77 entries, 0 to 76\n",
      "Data columns (total 5 columns):\n",
      " #   Column      Non-Null Count  Dtype  \n",
      "---  ------      --------------  -----  \n",
      " 0   circuitid   77 non-null     int64  \n",
      " 1   circuitref  77 non-null     object \n",
      " 2   lat         77 non-null     float64\n",
      " 3   lng         77 non-null     float64\n",
      " 4   alt         77 non-null     object \n",
      "dtypes: float64(2), int64(1), object(2)\n",
      "memory usage: 3.1+ KB\n"
     ]
    }
   ],
   "source": [
    "data.info()"
   ]
  },
  {
   "cell_type": "code",
   "execution_count": 11,
   "id": "1fd9d253",
   "metadata": {},
   "outputs": [
    {
     "data": {
      "text/plain": [
       "Index(['circuitid', 'circuitref', 'lat', 'lng', 'alt'], dtype='object')"
      ]
     },
     "execution_count": 11,
     "metadata": {},
     "output_type": "execute_result"
    }
   ],
   "source": [
    "data.columns"
   ]
  },
  {
   "cell_type": "code",
   "execution_count": 12,
   "id": "d830316e",
   "metadata": {},
   "outputs": [
    {
     "name": "stdout",
     "output_type": "stream",
     "text": [
      "Index(['circuitid', 'circuitref', 'lat', 'lng', 'alt'], dtype='object')\n",
      "Index(['circuitid', 'circuitref', 'lat', 'lng', 'alt'], dtype='object')\n",
      "Index(['circuitid', 'circuitref', 'lat', 'lng', 'alt'], dtype='object')\n",
      "Index(['circuitid', 'circuitref', 'lat', 'lng', 'alt'], dtype='object')\n",
      "Index(['circuitid', 'circuitref', 'lat', 'lng', 'alt'], dtype='object')\n"
     ]
    }
   ],
   "source": [
    "for column in data.columns:\n",
    "    print(data.columns.unique())"
   ]
  },
  {
   "cell_type": "code",
   "execution_count": 13,
   "id": "5018b5ca",
   "metadata": {},
   "outputs": [],
   "source": [
    "df = data.copy()"
   ]
  },
  {
   "cell_type": "markdown",
   "id": "7a2b8760",
   "metadata": {},
   "source": [
    "<h1 style=\"color: #F70206; text-shadow: 2px 2px 4px #000000; border: 1px solid #000000; font-size: 36px;\">01 | Data Cleaning</h1>"
   ]
  },
  {
   "cell_type": "markdown",
   "id": "9051dfcb",
   "metadata": {},
   "source": [
    "<h4 style=\"color: #F70206;\">Cleaning Column Names</h4>"
   ]
  },
  {
   "cell_type": "code",
   "execution_count": 14,
   "id": "cf41c258",
   "metadata": {},
   "outputs": [],
   "source": [
    "df.columns = df.columns.str.lower().str.replace(\" \", \"_\")"
   ]
  },
  {
   "cell_type": "code",
   "execution_count": 15,
   "id": "ac0f72e8",
   "metadata": {},
   "outputs": [
    {
     "ename": "NameError",
     "evalue": "name 'dfcopy' is not defined",
     "output_type": "error",
     "traceback": [
      "\u001b[1;31m---------------------------------------------------------------------------\u001b[0m",
      "\u001b[1;31mNameError\u001b[0m                                 Traceback (most recent call last)",
      "Cell \u001b[1;32mIn[15], line 1\u001b[0m\n\u001b[1;32m----> 1\u001b[0m dfcopy\u001b[38;5;241m.\u001b[39mrename(columns\u001b[38;5;241m=\u001b[39m{\u001b[38;5;124m\"\u001b[39m\u001b[38;5;124mst\u001b[39m\u001b[38;5;124m\"\u001b[39m: \u001b[38;5;124m\"\u001b[39m\u001b[38;5;124mstate\u001b[39m\u001b[38;5;124m\"\u001b[39m}, inplace \u001b[38;5;241m=\u001b[39m \u001b[38;5;28;01mTrue\u001b[39;00m)\n",
      "\u001b[1;31mNameError\u001b[0m: name 'dfcopy' is not defined"
     ]
    }
   ],
   "source": [
    "dfcopy.rename(columns={\"st\": \"state\"}, inplace = True)"
   ]
  },
  {
   "cell_type": "markdown",
   "id": "af34b16a",
   "metadata": {},
   "source": [
    "<h6 style=\"color: #F70206;\">Reordering columns</h6>"
   ]
  },
  {
   "cell_type": "code",
   "execution_count": null,
   "id": "7586642e",
   "metadata": {},
   "outputs": [],
   "source": [
    "df.columns"
   ]
  },
  {
   "cell_type": "code",
   "execution_count": null,
   "id": "de993667",
   "metadata": {},
   "outputs": [],
   "source": [
    "column_order = ['circuitid', 'circuitref', 'name', 'location', 'country', 'lat', 'lng',\n",
    "       'alt', 'url']\n",
    "df = df.reindex(columns=column_order)"
   ]
  },
  {
   "cell_type": "markdown",
   "id": "2e370860",
   "metadata": {},
   "source": [
    "<h4 style=\"color: #F70206;\">Cleaning invalid Values</h4>"
   ]
  },
  {
   "cell_type": "code",
   "execution_count": null,
   "id": "b2897176",
   "metadata": {},
   "outputs": [],
   "source": [
    "mean_ages = dict(df.groupby(\"title\")[\"age\"].mean().round(1))            # TECNICA MAPEO"
   ]
  },
  {
   "cell_type": "code",
   "execution_count": null,
   "id": "c362cc3f",
   "metadata": {},
   "outputs": [],
   "source": [
    "age_by_title = df[\"title\"].map(mean_ages)"
   ]
  },
  {
   "cell_type": "markdown",
   "id": "3ca818ae",
   "metadata": {},
   "source": []
  },
  {
   "cell_type": "code",
   "execution_count": null,
   "id": "f5a4c1d4",
   "metadata": {},
   "outputs": [],
   "source": [
    "mapeo = {\"Male\": \"M\", \"female\":\"F\", \"Femal\": \"F\", \"M\": \"M\", \"F\": \"F\"}       # TECNICA MAPEO"
   ]
  },
  {
   "cell_type": "code",
   "execution_count": null,
   "id": "ecc072d2",
   "metadata": {},
   "outputs": [],
   "source": [
    "dfcopy[\"gender\"] = dfcopy[\"gender\"].map(mapeo)"
   ]
  },
  {
   "cell_type": "code",
   "execution_count": null,
   "id": "58c27940",
   "metadata": {},
   "outputs": [],
   "source": [
    "dfcopy[\"gender\"].value_counts()"
   ]
  },
  {
   "cell_type": "code",
   "execution_count": null,
   "id": "f1856753",
   "metadata": {},
   "outputs": [],
   "source": []
  },
  {
   "cell_type": "code",
   "execution_count": null,
   "id": "a1ef0057",
   "metadata": {},
   "outputs": [],
   "source": [
    "df[\"sex_enc\"] = df[\"sex\"].map({\"female\": 0, \"male\": 1})                   # TECNICA MAPEO A BINARIO"
   ]
  },
  {
   "cell_type": "code",
   "execution_count": null,
   "id": "d704fb07",
   "metadata": {},
   "outputs": [],
   "source": []
  },
  {
   "cell_type": "code",
   "execution_count": null,
   "id": "79a9c66b",
   "metadata": {},
   "outputs": [],
   "source": [
    "titles_dummies = pd.get_dummies(df[\"title\"], prefix=\"title\")             # TECNICA CREAR DUMIES\n",
    "df = pd.concat([df, titles_dummies], axis=1)"
   ]
  },
  {
   "cell_type": "code",
   "execution_count": null,
   "id": "e4086599",
   "metadata": {},
   "outputs": [],
   "source": [
    "df = df * 1                                                              # TRANSFORMANDO DE BOOLEAN A INT (0 Y 1)"
   ]
  },
  {
   "cell_type": "markdown",
   "id": "129fff06",
   "metadata": {},
   "source": [
    "<h6 style=\"color: #F70206;\">Cleaning values with binig</h6>"
   ]
  },
  {
   "cell_type": "code",
   "execution_count": null,
   "id": "fded6ccd",
   "metadata": {},
   "outputs": [],
   "source": [
    "df.title.replace(df.title.value_counts().index[4:], \"Other\", inplace=True)"
   ]
  },
  {
   "cell_type": "markdown",
   "id": "04cf509d",
   "metadata": {},
   "source": [
    "<h6 style=\"color: #F70206;\">Cleaning column values</h6>"
   ]
  },
  {
   "cell_type": "code",
   "execution_count": null,
   "id": "17051ffe",
   "metadata": {},
   "outputs": [],
   "source": [
    "df[\"cabin\"] = df[\"cabin\"].apply(lambda x: x[0] if isinstance(x, str) else \"M\")"
   ]
  },
  {
   "cell_type": "code",
   "execution_count": null,
   "id": "be6fe78e",
   "metadata": {},
   "outputs": [],
   "source": [
    "df[\"cabin\"].value_counts().sort_values(ascending=False)"
   ]
  },
  {
   "cell_type": "markdown",
   "id": "01bca146",
   "metadata": {},
   "source": [
    "<h6 style=\"color: #F70206;\">Cleaning string column values</h6>"
   ]
  },
  {
   "cell_type": "code",
   "execution_count": null,
   "id": "25a769dd",
   "metadata": {},
   "outputs": [],
   "source": [
    "\"Braund, Mr. Owen Harris\".split(\",\")[1].split(\".\")[0].strip()"
   ]
  },
  {
   "cell_type": "code",
   "execution_count": null,
   "id": "459bf0ff",
   "metadata": {},
   "outputs": [],
   "source": [
    "df[\"title\"] = df[\"name\"].apply(lambda x: x.split(\",\")[1].split(\".\")[0].strip())"
   ]
  },
  {
   "cell_type": "markdown",
   "id": "0f4dd1f0",
   "metadata": {},
   "source": [
    "<h4 style=\"color: #F70206;\">Dealing with Data types</h4>"
   ]
  },
  {
   "cell_type": "code",
   "execution_count": null,
   "id": "a09d0c6e",
   "metadata": {},
   "outputs": [],
   "source": []
  },
  {
   "cell_type": "markdown",
   "id": "af3e423a",
   "metadata": {},
   "source": [
    "<h6 style=\"color: #F70206;\">Dealing with datetime</h6>"
   ]
  },
  {
   "cell_type": "code",
   "execution_count": null,
   "id": "876edd49",
   "metadata": {},
   "outputs": [],
   "source": [
    "df['date'] = pd.to_datetime(df['date'])"
   ]
  },
  {
   "cell_type": "code",
   "execution_count": null,
   "id": "aa40278d",
   "metadata": {},
   "outputs": [],
   "source": [
    "df['date'] = df['date'].apply(lambda x: x.toordinal())"
   ]
  },
  {
   "cell_type": "code",
   "execution_count": null,
   "id": "3de7c330",
   "metadata": {},
   "outputs": [],
   "source": [
    "dfcopy['year'] = dfcopy['year'].astype(int)"
   ]
  },
  {
   "cell_type": "markdown",
   "id": "88da359d",
   "metadata": {},
   "source": [
    "<h6 style=\"color: #F70206;\">Formatting data types</h6>"
   ]
  },
  {
   "cell_type": "code",
   "execution_count": null,
   "id": "7ea9325b",
   "metadata": {},
   "outputs": [],
   "source": [
    "df['columna'] = df['columna'].apply(lambda x: float(x) if isinstance(x, int) else x)      # de int a float"
   ]
  },
  {
   "cell_type": "markdown",
   "id": "e03c2b20",
   "metadata": {},
   "source": [
    "<h4 style=\"color: #F70206;\">Dealing with NaN values</h4>"
   ]
  },
  {
   "cell_type": "code",
   "execution_count": null,
   "id": "c5b9a321",
   "metadata": {},
   "outputs": [],
   "source": [
    "df.isna().sum()"
   ]
  },
  {
   "cell_type": "code",
   "execution_count": null,
   "id": "8048f678",
   "metadata": {},
   "outputs": [],
   "source": [
    "dfcopy[\"customer_lifetime_value\"].fillna(0, inplace=True)"
   ]
  },
  {
   "cell_type": "markdown",
   "id": "7c445f64",
   "metadata": {},
   "source": [
    "<h6 style=\"color: #F70206;\">Filling Nan with methods</h6>"
   ]
  },
  {
   "cell_type": "code",
   "execution_count": null,
   "id": "a0381542",
   "metadata": {},
   "outputs": [],
   "source": [
    "for column in dfcopy.columns:\n",
    "    dfcopy[column] = dfcopy[column].interpolate(method='linear', limit_direction='forward', axis=0)"
   ]
  },
  {
   "cell_type": "markdown",
   "id": "69bbefa3",
   "metadata": {},
   "source": [
    "<h4 style=\"color: #F70206;\">Dealing with Duplicates</h4>"
   ]
  },
  {
   "cell_type": "code",
   "execution_count": null,
   "id": "d467ec51",
   "metadata": {},
   "outputs": [],
   "source": [
    "data.duplicated().sum()"
   ]
  },
  {
   "cell_type": "code",
   "execution_count": null,
   "id": "c96e41f4",
   "metadata": {},
   "outputs": [],
   "source": [
    "dfduplicates.drop_duplicates(keep=\"first\")"
   ]
  },
  {
   "cell_type": "markdown",
   "id": "b6fcfb9d",
   "metadata": {},
   "source": [
    "<h4 style=\"color: #F70206;\">Dealing with Empty Spaces</h4>"
   ]
  },
  {
   "cell_type": "code",
   "execution_count": null,
   "id": "d038f41f",
   "metadata": {},
   "outputs": [],
   "source": [
    "data.eq(\" \").sum()"
   ]
  },
  {
   "cell_type": "markdown",
   "id": "c0ba8d8e",
   "metadata": {},
   "source": [
    "<h4 style=\"color: #F70206;\">Columnas categoricas y numericas</h4>"
   ]
  },
  {
   "cell_type": "code",
   "execution_count": null,
   "id": "481f5d59",
   "metadata": {},
   "outputs": [],
   "source": [
    "numerical = []                                         # CATEGORICAS MENOS DE 6\n",
    "categorical = [] \n",
    "for column in df.describe().columns:\n",
    "    if int(df[column].nunique()) > 6:\n",
    "        numerical.append(column)\n",
    "    else:\n",
    "        categorical.append(column)\n",
    "print(f' numerical : {numerical}')\n",
    "print(f' categorical : {categorical}')"
   ]
  },
  {
   "cell_type": "code",
   "execution_count": null,
   "id": "82b34c87",
   "metadata": {},
   "outputs": [],
   "source": [
    "columnas_categoricas = dfcopy.select_dtypes(include=\"object\")\n",
    "columnas_numericas = dfcopy.select_dtypes(include=\"number\")"
   ]
  },
  {
   "cell_type": "markdown",
   "id": "488159f1",
   "metadata": {},
   "source": [
    "<h4 style=\"color: #F70206;\">Dropping columns</h4>"
   ]
  },
  {
   "cell_type": "code",
   "execution_count": null,
   "id": "c7fb58de",
   "metadata": {},
   "outputs": [],
   "source": [
    "todrop = ['name', 'location', 'country', 'url']"
   ]
  },
  {
   "cell_type": "code",
   "execution_count": null,
   "id": "1876a2fc",
   "metadata": {},
   "outputs": [],
   "source": [
    "for column in todrop:\n",
    "    df.drop(columns=[column], inplace=True)"
   ]
  },
  {
   "cell_type": "code",
   "execution_count": null,
   "id": "dfd0dd63",
   "metadata": {},
   "outputs": [],
   "source": [
    "df.info()"
   ]
  },
  {
   "cell_type": "markdown",
   "id": "378e4b4b",
   "metadata": {},
   "source": [
    "<h4 style=\"color: #F70206;\">Data to csv</h4>"
   ]
  },
  {
   "cell_type": "code",
   "execution_count": null,
   "id": "904623b1",
   "metadata": {},
   "outputs": [],
   "source": [
    "df.to_csv('circuits clean.csv', index=False)"
   ]
  },
  {
   "cell_type": "code",
   "execution_count": null,
   "id": "fd872859",
   "metadata": {},
   "outputs": [],
   "source": []
  }
 ],
 "metadata": {
  "kernelspec": {
   "display_name": "Python 3 (ipykernel)",
   "language": "python",
   "name": "python3"
  },
  "language_info": {
   "codemirror_mode": {
    "name": "ipython",
    "version": 3
   },
   "file_extension": ".py",
   "mimetype": "text/x-python",
   "name": "python",
   "nbconvert_exporter": "python",
   "pygments_lexer": "ipython3",
   "version": "3.11.5"
  }
 },
 "nbformat": 4,
 "nbformat_minor": 5
}
